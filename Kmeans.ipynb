{
  "nbformat": 4,
  "nbformat_minor": 0,
  "metadata": {
    "colab": {
      "name": "Kmeans.ipynb",
      "provenance": [],
      "collapsed_sections": [],
      "toc_visible": true
    },
    "kernelspec": {
      "name": "python3",
      "display_name": "Python 3"
    },
    "language_info": {
      "name": "python"
    },
    "accelerator": "GPU"
  },
  "cells": [
    {
      "cell_type": "code",
      "source": [
        "#Hoàng Đắc Hùng\n",
        "#msv 18103200013"
      ],
      "metadata": {
        "id": "JWXuSrApH_ti"
      },
      "execution_count": 78,
      "outputs": []
    },
    {
      "cell_type": "markdown",
      "source": [
        ""
      ],
      "metadata": {
        "id": "PA8sNtDyH_RL"
      }
    },
    {
      "cell_type": "code",
      "execution_count": null,
      "metadata": {
        "id": "nlw5M755eNA5"
      },
      "outputs": [],
      "source": [
        "from scipy.cluster.vq import kmeans, vq\n",
        "from sklearn.cluster import KMeans\n",
        "import pandas as pd\n",
        "import matplotlib.pyplot as plt\n",
        "# nhập các thư viện cần thiết"
      ]
    },
    {
      "cell_type": "code",
      "source": [
        "df = pd.read_csv(\"dataset.csv\") # đọc dữ liệu từ tập dữ liệu dataset.csv\n",
        "df.head() #hiển 5 đối tượng để kiểm tra tệp đã đúng hay chưa"
      ],
      "metadata": {
        "id": "ZY-LWb91fsna"
      },
      "execution_count": null,
      "outputs": []
    },
    {
      "cell_type": "code",
      "source": [
        "# vẽ biểu đồ phân tán để trực quan hóa dữ liệu\n",
        "plt.scatter(x=df['x'],y=df['y']) \n",
        "plt.xlabel('Label X')\n",
        "plt.ylabel('Label Y')"
      ],
      "metadata": {
        "id": "DdPca7DLm62-"
      },
      "execution_count": null,
      "outputs": []
    },
    {
      "cell_type": "code",
      "source": [
        "km = KMeans(n_clusters=3) # đặt số lượng nhóm\n",
        "y_predicted = km.fit_predict(df[['x','y']]) # tạo dự đoán\n",
        "y_predicted"
      ],
      "metadata": {
        "id": "m8kkpcq1rhGF"
      },
      "execution_count": null,
      "outputs": []
    },
    {
      "cell_type": "code",
      "source": [
        "df['cluster']= y_predicted # thêm 1 cột có tên cluster (cụm) với 0 và 1 và 2 là các nhóm khác nhau\n",
        "df"
      ],
      "metadata": {
        "id": "6baEqsRtr5Ox"
      },
      "execution_count": null,
      "outputs": []
    },
    {
      "cell_type": "code",
      "source": [
        "km.cluster_centers_ # dùng kmeans xác định lại tâm của các cụm"
      ],
      "metadata": {
        "id": "XKjSFqXUusMZ"
      },
      "execution_count": null,
      "outputs": []
    },
    {
      "cell_type": "code",
      "source": [
        "# vẽ lại biểu đồ và tâm để đễ trực quan\n",
        "df1 = df[df.cluster==0]\n",
        "df2 = df[df.cluster==1]\n",
        "df3 = df[df.cluster==2]\n",
        "\n",
        "#tạo màu cho các đối tượng\n",
        "plt.scatter(df1['x'],df1['y'],color='green')\n",
        "plt.scatter(df2['x'],df2['y'],color='red')\n",
        "plt.scatter(df3['x'],df3['y'],color='yellow')\n",
        "plt.scatter(km.cluster_centers_[:,0],km.cluster_centers_[:,1],color='purple',marker='*',label='Tâm cụm')#\n",
        "plt.xlabel('X')\n",
        "plt.ylabel('Y')\n",
        "plt.legend()"
      ],
      "metadata": {
        "id": "YZpEcU7Bs0-K"
      },
      "execution_count": null,
      "outputs": []
    },
    {
      "cell_type": "markdown",
      "source": [
        "# Mục mới"
      ],
      "metadata": {
        "id": "WFgZCNAil6P3"
      }
    }
  ]
}